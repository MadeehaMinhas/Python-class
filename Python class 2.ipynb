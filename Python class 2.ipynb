{
 "cells": [
  {
   "cell_type": "code",
   "execution_count": 1,
   "metadata": {},
   "outputs": [
    {
     "name": "stdout",
     "output_type": "stream",
     "text": [
      "The Zen of Python, by Tim Peters\n",
      "\n",
      "Beautiful is better than ugly.\n",
      "Explicit is better than implicit.\n",
      "Simple is better than complex.\n",
      "Complex is better than complicated.\n",
      "Flat is better than nested.\n",
      "Sparse is better than dense.\n",
      "Readability counts.\n",
      "Special cases aren't special enough to break the rules.\n",
      "Although practicality beats purity.\n",
      "Errors should never pass silently.\n",
      "Unless explicitly silenced.\n",
      "In the face of ambiguity, refuse the temptation to guess.\n",
      "There should be one-- and preferably only one --obvious way to do it.\n",
      "Although that way may not be obvious at first unless you're Dutch.\n",
      "Now is better than never.\n",
      "Although never is often better than *right* now.\n",
      "If the implementation is hard to explain, it's a bad idea.\n",
      "If the implementation is easy to explain, it may be a good idea.\n",
      "Namespaces are one honking great idea -- let's do more of those!\n"
     ]
    }
   ],
   "source": [
    "import this\n"
   ]
  },
  {
   "cell_type": "code",
   "execution_count": 10,
   "metadata": {},
   "outputs": [
    {
     "name": "stdout",
     "output_type": "stream",
     "text": [
      "['Ali', 'Hamza', 'Ali', 20, True, False]\n",
      "1719787265096\n",
      "140720809747024\n"
     ]
    },
    {
     "data": {
      "text/plain": [
       "list"
      ]
     },
     "execution_count": 10,
     "metadata": {},
     "output_type": "execute_result"
    }
   ],
   "source": [
    "#INDEX    0      1     2   3    4\n",
    "a      =[\"Ali\",\"Hamza\",\"Ali\",20,True,False]\n",
    "#INDEX     -5     -4   -3  -2   -1\n",
    "b=7\n",
    "print(a)\n",
    "print(id(a))\n",
    "print(id(b))\n",
    "type(a)\n"
   ]
  },
  {
   "cell_type": "code",
   "execution_count": 11,
   "metadata": {},
   "outputs": [
    {
     "name": "stdout",
     "output_type": "stream",
     "text": [
      "{False, True, 'Hamza', 20, 'Ali'}\n"
     ]
    }
   ],
   "source": [
    "a      ={\"Ali\",\"Hamza\",\"Ali\",20,True,False}  # set\n",
    "print(a)"
   ]
  },
  {
   "cell_type": "code",
   "execution_count": 12,
   "metadata": {},
   "outputs": [
    {
     "name": "stdout",
     "output_type": "stream",
     "text": [
      "Khaliq\n"
     ]
    },
    {
     "data": {
      "text/plain": [
       "dict"
      ]
     },
     "execution_count": 12,
     "metadata": {},
     "output_type": "execute_result"
    }
   ],
   "source": [
    "#dict\n",
    "data={\n",
    "    \"Name\":\"Madeeha\",\n",
    "    \"father_name\":\"Khaliq\",\n",
    "    0:\"789\"\n",
    "}                                  \n",
    "print(data[\"father_name\"])\n",
    "type(data)"
   ]
  },
  {
   "cell_type": "code",
   "execution_count": 32,
   "metadata": {},
   "outputs": [
    {
     "name": "stdout",
     "output_type": "stream",
     "text": [
      "urooj\n"
     ]
    }
   ],
   "source": [
    "name1=\"UROOJ\"                               \n",
    "name1=name1.lower()                             # In memory Function\n",
    "print(name1, end=\"\\n\")\n",
    "del name1                     # deletes variable (release memory reserved by variable)"
   ]
  },
  {
   "cell_type": "code",
   "execution_count": 48,
   "metadata": {},
   "outputs": [
    {
     "name": "stdout",
     "output_type": "stream",
     "text": [
      "36\n",
      "23\n",
      "18\n",
      "ma          Rauf    \n"
     ]
    }
   ],
   "source": [
    "name2=\"             Asma          Rauf     \"\n",
    "\n",
    "print(len(name2))\n",
    "print(len(name2.lstrip()))    #left spaces\n",
    "print(len(name2.strip()))     #left and right spaces\n",
    "print(name2.lstrip()[2:22:1]) "
   ]
  },
  {
   "cell_type": "code",
   "execution_count": 50,
   "metadata": {},
   "outputs": [
    {
     "name": "stdout",
     "output_type": "stream",
     "text": [
      "2\n"
     ]
    }
   ],
   "source": [
    "a=\"we are pakistan we love our country\"\n",
    "#print(a.find(\"pakistan\"))\n",
    "b=a.split()\n",
    "print(b.count(\"we\"))"
   ]
  },
  {
   "cell_type": "code",
   "execution_count": 59,
   "metadata": {},
   "outputs": [
    {
     "name": "stdout",
     "output_type": "stream",
     "text": [
      "Student Name Madeeha \n",
      "Program: PIAIC \n",
      "Degree: BSCS\n"
     ]
    }
   ],
   "source": [
    "names=[\"Madeeha\",\"Urooj\"]\n",
    "program=[\"PIAIC\",\"Eycon training\"]\n",
    "degree=[\"BSCS\",\"BSSE\"]\n",
    "#print(\"Student Name: %s \\nProgram: %s \\nDegree: %s \\n\"%(names[0],program[0],degree[0]))   # concatenation method No 1\n",
    "#print(\"Student Name: \"+names[0]+\"\\nProgram: \"+program[0]+\"\\nDegree: \"+degree[0])           # concatenation method No 2\n",
    "print(f'Student Name: {names[0]} \\nProgram: {program[0]} \\nDegree: {degree[0]}')            # concatenation method No 3\n"
   ]
  },
  {
   "cell_type": "code",
   "execution_count": 54,
   "metadata": {},
   "outputs": [
    {
     "name": "stdout",
     "output_type": "stream",
     "text": [
      "14\n"
     ]
    }
   ],
   "source": [
    "print(5+7*2 \\\n",
    "-7 +2)"
   ]
  },
  {
   "cell_type": "code",
   "execution_count": 70,
   "metadata": {},
   "outputs": [
    {
     "name": "stdout",
     "output_type": "stream",
     "text": [
      "Pakistan score: 200\n",
      "Pakistan score: 200\n"
     ]
    }
   ],
   "source": [
    "a=200\n",
    "print(\"Pakistan score: \"+str(a))            # should have same datatype\n",
    "print(\"Pakistan score:\",a)\n"
   ]
  },
  {
   "cell_type": "code",
   "execution_count": 71,
   "metadata": {},
   "outputs": [
    {
     "name": "stdout",
     "output_type": "stream",
     "text": [
      "Name: Madeeha \n",
      "Program: PIAIC\n",
      "Name: Madeeha \n",
      "Program: PIAIC\n",
      "Name: Madeeha \n",
      "Program: PIAIC\n"
     ]
    }
   ],
   "source": [
    "print(\"Name: {} \\nProgram: {}\".format(names[0],program[0]))\n",
    "print(\"Name: {0} \\nProgram: {1}\".format(names[0],program[0]))\n",
    "print(\"Name: {sn} \\nProgram: {pn}\".format(sn=names[0],pn=program[0]))"
   ]
  },
  {
   "cell_type": "code",
   "execution_count": null,
   "metadata": {},
   "outputs": [],
   "source": [
    "#a=input()   # takes input"
   ]
  }
 ],
 "metadata": {
  "kernelspec": {
   "display_name": "Python 3",
   "language": "python",
   "name": "python3"
  },
  "language_info": {
   "codemirror_mode": {
    "name": "ipython",
    "version": 3
   },
   "file_extension": ".py",
   "mimetype": "text/x-python",
   "name": "python",
   "nbconvert_exporter": "python",
   "pygments_lexer": "ipython3",
   "version": "3.7.4"
  }
 },
 "nbformat": 4,
 "nbformat_minor": 2
}
